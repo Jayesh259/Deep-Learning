{
  "nbformat": 4,
  "nbformat_minor": 0,
  "metadata": {
    "colab": {
      "name": "StockPriceUsingLSTM.ipynb",
      "provenance": []
    },
    "kernelspec": {
      "name": "python3",
      "display_name": "Python 3"
    },
    "language_info": {
      "name": "python"
    }
  },
  "cells": [
    {
      "cell_type": "code",
      "metadata": {
        "id": "HwYMd44X3AwW"
      },
      "source": [
        "import pandas as pd"
      ],
      "execution_count": null,
      "outputs": []
    },
    {
      "cell_type": "code",
      "metadata": {
        "id": "xxw5PUOBDkUq"
      },
      "source": [
        "import pandas_datareader as pdr\n",
        "key = 'fc74c492e8004d1ab9230ebdcdbd6bb84d06d9e0'\n",
        "df = pdr.get_data_tiingo('AAPL',api_key=key)"
      ],
      "execution_count": null,
      "outputs": []
    },
    {
      "cell_type": "code",
      "metadata": {
        "id": "X3LfX83jEFrU"
      },
      "source": [
        "df.to_csv('AAPL.csv')"
      ],
      "execution_count": null,
      "outputs": []
    },
    {
      "cell_type": "code",
      "metadata": {
        "id": "HAGDmTRWEKWE"
      },
      "source": [
        "df = pd.read_csv('AAPL.csv')"
      ],
      "execution_count": null,
      "outputs": []
    },
    {
      "cell_type": "code",
      "metadata": {
        "colab": {
          "base_uri": "https://localhost:8080/",
          "height": 308
        },
        "id": "wMTCiH2hEPJf",
        "outputId": "e9650696-922c-4f92-bc90-24c659353db3"
      },
      "source": [
        "df.head()"
      ],
      "execution_count": null,
      "outputs": [
        {
          "output_type": "execute_result",
          "data": {
            "text/html": [
              "<div>\n",
              "<style scoped>\n",
              "    .dataframe tbody tr th:only-of-type {\n",
              "        vertical-align: middle;\n",
              "    }\n",
              "\n",
              "    .dataframe tbody tr th {\n",
              "        vertical-align: top;\n",
              "    }\n",
              "\n",
              "    .dataframe thead th {\n",
              "        text-align: right;\n",
              "    }\n",
              "</style>\n",
              "<table border=\"1\" class=\"dataframe\">\n",
              "  <thead>\n",
              "    <tr style=\"text-align: right;\">\n",
              "      <th></th>\n",
              "      <th>symbol</th>\n",
              "      <th>date</th>\n",
              "      <th>close</th>\n",
              "      <th>high</th>\n",
              "      <th>low</th>\n",
              "      <th>open</th>\n",
              "      <th>volume</th>\n",
              "      <th>adjClose</th>\n",
              "      <th>adjHigh</th>\n",
              "      <th>adjLow</th>\n",
              "      <th>adjOpen</th>\n",
              "      <th>adjVolume</th>\n",
              "      <th>divCash</th>\n",
              "      <th>splitFactor</th>\n",
              "    </tr>\n",
              "  </thead>\n",
              "  <tbody>\n",
              "    <tr>\n",
              "      <th>0</th>\n",
              "      <td>AAPL</td>\n",
              "      <td>2016-06-20 00:00:00+00:00</td>\n",
              "      <td>95.10</td>\n",
              "      <td>96.570</td>\n",
              "      <td>95.030</td>\n",
              "      <td>96.00</td>\n",
              "      <td>34411901</td>\n",
              "      <td>22.207129</td>\n",
              "      <td>22.550394</td>\n",
              "      <td>22.190783</td>\n",
              "      <td>22.417291</td>\n",
              "      <td>137647604</td>\n",
              "      <td>0.0</td>\n",
              "      <td>1.0</td>\n",
              "    </tr>\n",
              "    <tr>\n",
              "      <th>1</th>\n",
              "      <td>AAPL</td>\n",
              "      <td>2016-06-21 00:00:00+00:00</td>\n",
              "      <td>95.91</td>\n",
              "      <td>96.350</td>\n",
              "      <td>94.676</td>\n",
              "      <td>94.94</td>\n",
              "      <td>35546358</td>\n",
              "      <td>22.396275</td>\n",
              "      <td>22.499021</td>\n",
              "      <td>22.108119</td>\n",
              "      <td>22.169767</td>\n",
              "      <td>142185432</td>\n",
              "      <td>0.0</td>\n",
              "      <td>1.0</td>\n",
              "    </tr>\n",
              "    <tr>\n",
              "      <th>2</th>\n",
              "      <td>AAPL</td>\n",
              "      <td>2016-06-22 00:00:00+00:00</td>\n",
              "      <td>95.55</td>\n",
              "      <td>96.890</td>\n",
              "      <td>95.350</td>\n",
              "      <td>96.25</td>\n",
              "      <td>29219122</td>\n",
              "      <td>22.312210</td>\n",
              "      <td>22.625118</td>\n",
              "      <td>22.265507</td>\n",
              "      <td>22.475669</td>\n",
              "      <td>116876488</td>\n",
              "      <td>0.0</td>\n",
              "      <td>1.0</td>\n",
              "    </tr>\n",
              "    <tr>\n",
              "      <th>3</th>\n",
              "      <td>AAPL</td>\n",
              "      <td>2016-06-23 00:00:00+00:00</td>\n",
              "      <td>96.10</td>\n",
              "      <td>96.290</td>\n",
              "      <td>95.250</td>\n",
              "      <td>95.94</td>\n",
              "      <td>32240187</td>\n",
              "      <td>22.440642</td>\n",
              "      <td>22.485010</td>\n",
              "      <td>22.242156</td>\n",
              "      <td>22.403280</td>\n",
              "      <td>128960748</td>\n",
              "      <td>0.0</td>\n",
              "      <td>1.0</td>\n",
              "    </tr>\n",
              "    <tr>\n",
              "      <th>4</th>\n",
              "      <td>AAPL</td>\n",
              "      <td>2016-06-24 00:00:00+00:00</td>\n",
              "      <td>93.40</td>\n",
              "      <td>94.655</td>\n",
              "      <td>92.650</td>\n",
              "      <td>92.91</td>\n",
              "      <td>75311356</td>\n",
              "      <td>21.810156</td>\n",
              "      <td>22.103215</td>\n",
              "      <td>21.635021</td>\n",
              "      <td>21.695734</td>\n",
              "      <td>301245424</td>\n",
              "      <td>0.0</td>\n",
              "      <td>1.0</td>\n",
              "    </tr>\n",
              "  </tbody>\n",
              "</table>\n",
              "</div>"
            ],
            "text/plain": [
              "  symbol                       date  close  ...  adjVolume  divCash  splitFactor\n",
              "0   AAPL  2016-06-20 00:00:00+00:00  95.10  ...  137647604      0.0          1.0\n",
              "1   AAPL  2016-06-21 00:00:00+00:00  95.91  ...  142185432      0.0          1.0\n",
              "2   AAPL  2016-06-22 00:00:00+00:00  95.55  ...  116876488      0.0          1.0\n",
              "3   AAPL  2016-06-23 00:00:00+00:00  96.10  ...  128960748      0.0          1.0\n",
              "4   AAPL  2016-06-24 00:00:00+00:00  93.40  ...  301245424      0.0          1.0\n",
              "\n",
              "[5 rows x 14 columns]"
            ]
          },
          "metadata": {
            "tags": []
          },
          "execution_count": 61
        }
      ]
    },
    {
      "cell_type": "code",
      "metadata": {
        "colab": {
          "base_uri": "https://localhost:8080/",
          "height": 308
        },
        "id": "-_e3A-SOFNBr",
        "outputId": "ba25a107-4c07-41e0-f5ee-638d1751de85"
      },
      "source": [
        "df.tail()"
      ],
      "execution_count": null,
      "outputs": [
        {
          "output_type": "execute_result",
          "data": {
            "text/html": [
              "<div>\n",
              "<style scoped>\n",
              "    .dataframe tbody tr th:only-of-type {\n",
              "        vertical-align: middle;\n",
              "    }\n",
              "\n",
              "    .dataframe tbody tr th {\n",
              "        vertical-align: top;\n",
              "    }\n",
              "\n",
              "    .dataframe thead th {\n",
              "        text-align: right;\n",
              "    }\n",
              "</style>\n",
              "<table border=\"1\" class=\"dataframe\">\n",
              "  <thead>\n",
              "    <tr style=\"text-align: right;\">\n",
              "      <th></th>\n",
              "      <th>symbol</th>\n",
              "      <th>date</th>\n",
              "      <th>close</th>\n",
              "      <th>high</th>\n",
              "      <th>low</th>\n",
              "      <th>open</th>\n",
              "      <th>volume</th>\n",
              "      <th>adjClose</th>\n",
              "      <th>adjHigh</th>\n",
              "      <th>adjLow</th>\n",
              "      <th>adjOpen</th>\n",
              "      <th>adjVolume</th>\n",
              "      <th>divCash</th>\n",
              "      <th>splitFactor</th>\n",
              "    </tr>\n",
              "  </thead>\n",
              "  <tbody>\n",
              "    <tr>\n",
              "      <th>1253</th>\n",
              "      <td>AAPL</td>\n",
              "      <td>2021-06-11 00:00:00+00:00</td>\n",
              "      <td>127.35</td>\n",
              "      <td>127.44</td>\n",
              "      <td>126.100</td>\n",
              "      <td>126.53</td>\n",
              "      <td>53522373</td>\n",
              "      <td>127.35</td>\n",
              "      <td>127.44</td>\n",
              "      <td>126.100</td>\n",
              "      <td>126.53</td>\n",
              "      <td>53522373</td>\n",
              "      <td>0.0</td>\n",
              "      <td>1.0</td>\n",
              "    </tr>\n",
              "    <tr>\n",
              "      <th>1254</th>\n",
              "      <td>AAPL</td>\n",
              "      <td>2021-06-14 00:00:00+00:00</td>\n",
              "      <td>130.48</td>\n",
              "      <td>130.54</td>\n",
              "      <td>127.070</td>\n",
              "      <td>127.82</td>\n",
              "      <td>96906490</td>\n",
              "      <td>130.48</td>\n",
              "      <td>130.54</td>\n",
              "      <td>127.070</td>\n",
              "      <td>127.82</td>\n",
              "      <td>96906490</td>\n",
              "      <td>0.0</td>\n",
              "      <td>1.0</td>\n",
              "    </tr>\n",
              "    <tr>\n",
              "      <th>1255</th>\n",
              "      <td>AAPL</td>\n",
              "      <td>2021-06-15 00:00:00+00:00</td>\n",
              "      <td>129.64</td>\n",
              "      <td>130.60</td>\n",
              "      <td>129.390</td>\n",
              "      <td>129.94</td>\n",
              "      <td>62746332</td>\n",
              "      <td>129.64</td>\n",
              "      <td>130.60</td>\n",
              "      <td>129.390</td>\n",
              "      <td>129.94</td>\n",
              "      <td>62746332</td>\n",
              "      <td>0.0</td>\n",
              "      <td>1.0</td>\n",
              "    </tr>\n",
              "    <tr>\n",
              "      <th>1256</th>\n",
              "      <td>AAPL</td>\n",
              "      <td>2021-06-16 00:00:00+00:00</td>\n",
              "      <td>130.15</td>\n",
              "      <td>130.89</td>\n",
              "      <td>128.461</td>\n",
              "      <td>130.37</td>\n",
              "      <td>91339351</td>\n",
              "      <td>130.15</td>\n",
              "      <td>130.89</td>\n",
              "      <td>128.461</td>\n",
              "      <td>130.37</td>\n",
              "      <td>91339351</td>\n",
              "      <td>0.0</td>\n",
              "      <td>1.0</td>\n",
              "    </tr>\n",
              "    <tr>\n",
              "      <th>1257</th>\n",
              "      <td>AAPL</td>\n",
              "      <td>2021-06-17 00:00:00+00:00</td>\n",
              "      <td>131.79</td>\n",
              "      <td>132.55</td>\n",
              "      <td>129.650</td>\n",
              "      <td>129.80</td>\n",
              "      <td>96721669</td>\n",
              "      <td>131.79</td>\n",
              "      <td>132.55</td>\n",
              "      <td>129.650</td>\n",
              "      <td>129.80</td>\n",
              "      <td>96721669</td>\n",
              "      <td>0.0</td>\n",
              "      <td>1.0</td>\n",
              "    </tr>\n",
              "  </tbody>\n",
              "</table>\n",
              "</div>"
            ],
            "text/plain": [
              "     symbol                       date   close  ...  adjVolume  divCash  splitFactor\n",
              "1253   AAPL  2021-06-11 00:00:00+00:00  127.35  ...   53522373      0.0          1.0\n",
              "1254   AAPL  2021-06-14 00:00:00+00:00  130.48  ...   96906490      0.0          1.0\n",
              "1255   AAPL  2021-06-15 00:00:00+00:00  129.64  ...   62746332      0.0          1.0\n",
              "1256   AAPL  2021-06-16 00:00:00+00:00  130.15  ...   91339351      0.0          1.0\n",
              "1257   AAPL  2021-06-17 00:00:00+00:00  131.79  ...   96721669      0.0          1.0\n",
              "\n",
              "[5 rows x 14 columns]"
            ]
          },
          "metadata": {
            "tags": []
          },
          "execution_count": 62
        }
      ]
    },
    {
      "cell_type": "code",
      "metadata": {
        "colab": {
          "base_uri": "https://localhost:8080/"
        },
        "id": "uOMl57E9ESBw",
        "outputId": "099a3851-22b2-4421-c543-5da47efa37ac"
      },
      "source": [
        "df.isnull().sum()"
      ],
      "execution_count": null,
      "outputs": [
        {
          "output_type": "execute_result",
          "data": {
            "text/plain": [
              "symbol         0\n",
              "date           0\n",
              "close          0\n",
              "high           0\n",
              "low            0\n",
              "open           0\n",
              "volume         0\n",
              "adjClose       0\n",
              "adjHigh        0\n",
              "adjLow         0\n",
              "adjOpen        0\n",
              "adjVolume      0\n",
              "divCash        0\n",
              "splitFactor    0\n",
              "dtype: int64"
            ]
          },
          "metadata": {
            "tags": []
          },
          "execution_count": 63
        }
      ]
    },
    {
      "cell_type": "code",
      "metadata": {
        "id": "LWZeJ4reEVtR"
      },
      "source": [
        "X= df['close']"
      ],
      "execution_count": null,
      "outputs": []
    },
    {
      "cell_type": "code",
      "metadata": {
        "colab": {
          "base_uri": "https://localhost:8080/"
        },
        "id": "dYVorqoeEaCK",
        "outputId": "7e77c64d-6606-4c7e-9eda-9b957898c211"
      },
      "source": [
        "X"
      ],
      "execution_count": null,
      "outputs": [
        {
          "output_type": "execute_result",
          "data": {
            "text/plain": [
              "0        95.10\n",
              "1        95.91\n",
              "2        95.55\n",
              "3        96.10\n",
              "4        93.40\n",
              "         ...  \n",
              "1253    127.35\n",
              "1254    130.48\n",
              "1255    129.64\n",
              "1256    130.15\n",
              "1257    131.79\n",
              "Name: close, Length: 1258, dtype: float64"
            ]
          },
          "metadata": {
            "tags": []
          },
          "execution_count": 65
        }
      ]
    },
    {
      "cell_type": "code",
      "metadata": {
        "colab": {
          "base_uri": "https://localhost:8080/",
          "height": 418
        },
        "id": "0uBYWsMDEhWA",
        "outputId": "b3e86c17-7cf0-438e-f5f6-6dc5ce119fae"
      },
      "source": [
        "X.reset_index()"
      ],
      "execution_count": null,
      "outputs": [
        {
          "output_type": "execute_result",
          "data": {
            "text/html": [
              "<div>\n",
              "<style scoped>\n",
              "    .dataframe tbody tr th:only-of-type {\n",
              "        vertical-align: middle;\n",
              "    }\n",
              "\n",
              "    .dataframe tbody tr th {\n",
              "        vertical-align: top;\n",
              "    }\n",
              "\n",
              "    .dataframe thead th {\n",
              "        text-align: right;\n",
              "    }\n",
              "</style>\n",
              "<table border=\"1\" class=\"dataframe\">\n",
              "  <thead>\n",
              "    <tr style=\"text-align: right;\">\n",
              "      <th></th>\n",
              "      <th>index</th>\n",
              "      <th>close</th>\n",
              "    </tr>\n",
              "  </thead>\n",
              "  <tbody>\n",
              "    <tr>\n",
              "      <th>0</th>\n",
              "      <td>0</td>\n",
              "      <td>95.10</td>\n",
              "    </tr>\n",
              "    <tr>\n",
              "      <th>1</th>\n",
              "      <td>1</td>\n",
              "      <td>95.91</td>\n",
              "    </tr>\n",
              "    <tr>\n",
              "      <th>2</th>\n",
              "      <td>2</td>\n",
              "      <td>95.55</td>\n",
              "    </tr>\n",
              "    <tr>\n",
              "      <th>3</th>\n",
              "      <td>3</td>\n",
              "      <td>96.10</td>\n",
              "    </tr>\n",
              "    <tr>\n",
              "      <th>4</th>\n",
              "      <td>4</td>\n",
              "      <td>93.40</td>\n",
              "    </tr>\n",
              "    <tr>\n",
              "      <th>...</th>\n",
              "      <td>...</td>\n",
              "      <td>...</td>\n",
              "    </tr>\n",
              "    <tr>\n",
              "      <th>1253</th>\n",
              "      <td>1253</td>\n",
              "      <td>127.35</td>\n",
              "    </tr>\n",
              "    <tr>\n",
              "      <th>1254</th>\n",
              "      <td>1254</td>\n",
              "      <td>130.48</td>\n",
              "    </tr>\n",
              "    <tr>\n",
              "      <th>1255</th>\n",
              "      <td>1255</td>\n",
              "      <td>129.64</td>\n",
              "    </tr>\n",
              "    <tr>\n",
              "      <th>1256</th>\n",
              "      <td>1256</td>\n",
              "      <td>130.15</td>\n",
              "    </tr>\n",
              "    <tr>\n",
              "      <th>1257</th>\n",
              "      <td>1257</td>\n",
              "      <td>131.79</td>\n",
              "    </tr>\n",
              "  </tbody>\n",
              "</table>\n",
              "<p>1258 rows × 2 columns</p>\n",
              "</div>"
            ],
            "text/plain": [
              "      index   close\n",
              "0         0   95.10\n",
              "1         1   95.91\n",
              "2         2   95.55\n",
              "3         3   96.10\n",
              "4         4   93.40\n",
              "...     ...     ...\n",
              "1253   1253  127.35\n",
              "1254   1254  130.48\n",
              "1255   1255  129.64\n",
              "1256   1256  130.15\n",
              "1257   1257  131.79\n",
              "\n",
              "[1258 rows x 2 columns]"
            ]
          },
          "metadata": {
            "tags": []
          },
          "execution_count": 66
        }
      ]
    },
    {
      "cell_type": "code",
      "metadata": {
        "id": "N2461bvZEkcr"
      },
      "source": [
        "X = X.drop(columns='index')"
      ],
      "execution_count": null,
      "outputs": []
    },
    {
      "cell_type": "code",
      "metadata": {
        "colab": {
          "base_uri": "https://localhost:8080/"
        },
        "id": "ENJwaNuMEroP",
        "outputId": "c0b8d99f-88f8-4a76-9eae-d7ee4a1c09a5"
      },
      "source": [
        "X"
      ],
      "execution_count": null,
      "outputs": [
        {
          "output_type": "execute_result",
          "data": {
            "text/plain": [
              "0        95.10\n",
              "1        95.91\n",
              "2        95.55\n",
              "3        96.10\n",
              "4        93.40\n",
              "         ...  \n",
              "1253    127.35\n",
              "1254    130.48\n",
              "1255    129.64\n",
              "1256    130.15\n",
              "1257    131.79\n",
              "Name: close, Length: 1258, dtype: float64"
            ]
          },
          "metadata": {
            "tags": []
          },
          "execution_count": 68
        }
      ]
    },
    {
      "cell_type": "code",
      "metadata": {
        "colab": {
          "base_uri": "https://localhost:8080/",
          "height": 283
        },
        "id": "LuPxP0MXEUEG",
        "outputId": "9a35ee05-db28-41b9-ae57-a68f8842abb3"
      },
      "source": [
        "import matplotlib.pyplot as plt\n",
        "\n",
        "plt.plot(X)"
      ],
      "execution_count": null,
      "outputs": [
        {
          "output_type": "execute_result",
          "data": {
            "text/plain": [
              "[<matplotlib.lines.Line2D at 0x7f3a053ec0d0>]"
            ]
          },
          "metadata": {
            "tags": []
          },
          "execution_count": 69
        },
        {
          "output_type": "display_data",
          "data": {
            "image/png": "[encoded data removed]",
            "text/plain": [
              "<Figure size 432x288 with 1 Axes>"
            ]
          },
          "metadata": {
            "tags": [],
            "needs_background": "light"
          }
        }
      ]
    },
    {
      "cell_type": "code",
      "metadata": {
        "id": "r-HrwQNtE6oD"
      },
      "source": [
        "import numpy as np\n"
      ],
      "execution_count": null,
      "outputs": []
    },
    {
      "cell_type": "code",
      "metadata": {
        "colab": {
          "base_uri": "https://localhost:8080/"
        },
        "id": "Pvb_sJVlFj8T",
        "outputId": "eb83ed91-7f13-469c-d6c9-8f1fe1bf2e05"
      },
      "source": [
        "X"
      ],
      "execution_count": null,
      "outputs": [
        {
          "output_type": "execute_result",
          "data": {
            "text/plain": [
              "0        95.10\n",
              "1        95.91\n",
              "2        95.55\n",
              "3        96.10\n",
              "4        93.40\n",
              "         ...  \n",
              "1253    127.35\n",
              "1254    130.48\n",
              "1255    129.64\n",
              "1256    130.15\n",
              "1257    131.79\n",
              "Name: close, Length: 1258, dtype: float64"
            ]
          },
          "metadata": {
            "tags": []
          },
          "execution_count": 71
        }
      ]
    },
    {
      "cell_type": "code",
      "metadata": {
        "colab": {
          "base_uri": "https://localhost:8080/"
        },
        "id": "dW73Fd7LF-_h",
        "outputId": "6335aeb0-ef90-4445-9d33-f0bde0b94754"
      },
      "source": [
        "arr = np.array(X)\n",
        "arr"
      ],
      "execution_count": null,
      "outputs": [
        {
          "output_type": "execute_result",
          "data": {
            "text/plain": [
              "array([ 95.1 ,  95.91,  95.55, ..., 129.64, 130.15, 131.79])"
            ]
          },
          "metadata": {
            "tags": []
          },
          "execution_count": 72
        }
      ]
    },
    {
      "cell_type": "code",
      "metadata": {
        "id": "mGVwcbIjGB0j"
      },
      "source": [
        "z=arr.reshape(-1,1)"
      ],
      "execution_count": null,
      "outputs": []
    },
    {
      "cell_type": "code",
      "metadata": {
        "colab": {
          "base_uri": "https://localhost:8080/"
        },
        "id": "L6Lm_pXJGWgE",
        "outputId": "cb79baef-378f-4432-90a9-bc6a8e866391"
      },
      "source": [
        "z"
      ],
      "execution_count": null,
      "outputs": [
        {
          "output_type": "execute_result",
          "data": {
            "text/plain": [
              "array([[ 95.1 ],\n",
              "       [ 95.91],\n",
              "       [ 95.55],\n",
              "       ...,\n",
              "       [129.64],\n",
              "       [130.15],\n",
              "       [131.79]])"
            ]
          },
          "metadata": {
            "tags": []
          },
          "execution_count": 74
        }
      ]
    },
    {
      "cell_type": "code",
      "metadata": {
        "id": "MBPLm649Fldc"
      },
      "source": [
        "from sklearn.preprocessing import MinMaxScaler\n",
        "scaler = MinMaxScaler(feature_range=(0,1))\n",
        "X = scaler.fit_transform(z)"
      ],
      "execution_count": null,
      "outputs": []
    },
    {
      "cell_type": "code",
      "metadata": {
        "colab": {
          "base_uri": "https://localhost:8080/"
        },
        "id": "4KRIsRsaG2Vw",
        "outputId": "3cafe9b8-1e5a-4323-8e03-b03bac03cf16"
      },
      "source": [
        "X"
      ],
      "execution_count": null,
      "outputs": [
        {
          "output_type": "execute_result",
          "data": {
            "text/plain": [
              "array([[0.00739041],\n",
              "       [0.0093467 ],\n",
              "       [0.00847724],\n",
              "       ...,\n",
              "       [0.09081029],\n",
              "       [0.09204202],\n",
              "       [0.0960029 ]])"
            ]
          },
          "metadata": {
            "tags": []
          },
          "execution_count": 76
        }
      ]
    },
    {
      "cell_type": "code",
      "metadata": {
        "id": "HrgY3addG3Ji"
      },
      "source": [
        "## Train Test Split"
      ],
      "execution_count": null,
      "outputs": []
    },
    {
      "cell_type": "code",
      "metadata": {
        "colab": {
          "base_uri": "https://localhost:8080/"
        },
        "id": "XHQtXEl7Ire9",
        "outputId": "f04b8bb4-b309-4008-8873-564e71d006dc"
      },
      "source": [
        "X[99]"
      ],
      "execution_count": null,
      "outputs": [
        {
          "output_type": "execute_result",
          "data": {
            "text/plain": [
              "array([0.04593648])"
            ]
          },
          "metadata": {
            "tags": []
          },
          "execution_count": 78
        }
      ]
    },
    {
      "cell_type": "code",
      "metadata": {
        "colab": {
          "base_uri": "https://localhost:8080/"
        },
        "id": "SPGzDKgU4anD",
        "outputId": "0b0a4888-744e-4f92-d499-1bda4c7830d8"
      },
      "source": [
        "len(X)"
      ],
      "execution_count": null,
      "outputs": [
        {
          "output_type": "execute_result",
          "data": {
            "text/plain": [
              "1258"
            ]
          },
          "metadata": {
            "tags": []
          },
          "execution_count": 79
        }
      ]
    },
    {
      "cell_type": "code",
      "metadata": {
        "colab": {
          "base_uri": "https://localhost:8080/"
        },
        "id": "pBSv4kCsIytN",
        "outputId": "fa4a6cce-791b-41b9-e4ed-bff7d2ab33f9"
      },
      "source": [
        "len(X)*0.65"
      ],
      "execution_count": null,
      "outputs": [
        {
          "output_type": "execute_result",
          "data": {
            "text/plain": [
              "817.7"
            ]
          },
          "metadata": {
            "tags": []
          },
          "execution_count": 80
        }
      ]
    },
    {
      "cell_type": "code",
      "metadata": {
        "id": "DevHUwH0I6TM"
      },
      "source": [
        "training_size = int(len(X)*0.65)\n",
        "test_size = len(X)-training_size"
      ],
      "execution_count": null,
      "outputs": []
    },
    {
      "cell_type": "code",
      "metadata": {
        "colab": {
          "base_uri": "https://localhost:8080/"
        },
        "id": "bGmTE4XWJqWp",
        "outputId": "a9be5357-b5b0-4410-9cc6-dc64dd719b65"
      },
      "source": [
        "training_size, test_size"
      ],
      "execution_count": null,
      "outputs": [
        {
          "output_type": "execute_result",
          "data": {
            "text/plain": [
              "(817, 441)"
            ]
          },
          "metadata": {
            "tags": []
          },
          "execution_count": 82
        }
      ]
    },
    {
      "cell_type": "code",
      "metadata": {
        "colab": {
          "base_uri": "https://localhost:8080/"
        },
        "id": "JIowLI8ZKMTn",
        "outputId": "220a6b75-d396-4299-ba06-e6bdddf64da2"
      },
      "source": [
        "X[12]"
      ],
      "execution_count": null,
      "outputs": [
        {
          "output_type": "execute_result",
          "data": {
            "text/plain": [
              "array([0.00941915])"
            ]
          },
          "metadata": {
            "tags": []
          },
          "execution_count": 83
        }
      ]
    },
    {
      "cell_type": "code",
      "metadata": {
        "colab": {
          "base_uri": "https://localhost:8080/"
        },
        "id": "xE3FaRBaKNiX",
        "outputId": "d459171e-9275-4f3a-b5cc-bdee7c8788d2"
      },
      "source": [
        "X[0:3,:11]"
      ],
      "execution_count": null,
      "outputs": [
        {
          "output_type": "execute_result",
          "data": {
            "text/plain": [
              "array([[0.00739041],\n",
              "       [0.0093467 ],\n",
              "       [0.00847724]])"
            ]
          },
          "metadata": {
            "tags": []
          },
          "execution_count": 115
        }
      ]
    },
    {
      "cell_type": "code",
      "metadata": {
        "id": "CvcFUZ5LKPqE",
        "colab": {
          "base_uri": "https://localhost:8080/"
        },
        "outputId": "5628d19a-b206-4df2-f31b-e90a5f5a61b9"
      },
      "source": [
        "X.shape"
      ],
      "execution_count": null,
      "outputs": [
        {
          "output_type": "execute_result",
          "data": {
            "text/plain": [
              "(1258, 1)"
            ]
          },
          "metadata": {
            "tags": []
          },
          "execution_count": 103
        }
      ]
    },
    {
      "cell_type": "code",
      "metadata": {
        "id": "WT9eaxZaJs4v"
      },
      "source": [
        "train_data = X[0:training_size, :]\n",
        "test_data = X[training_size:len(X),:]"
      ],
      "execution_count": null,
      "outputs": []
    },
    {
      "cell_type": "code",
      "metadata": {
        "id": "n6Eo0AHtKsBt"
      },
      "source": [
        "test_data"
      ],
      "execution_count": null,
      "outputs": []
    },
    {
      "cell_type": "code",
      "metadata": {
        "colab": {
          "base_uri": "https://localhost:8080/"
        },
        "id": "-HVxmcw3Ornm",
        "outputId": "8d5abea4-4f20-4cb9-b52f-625adf133754"
      },
      "source": [
        "train_data.shape"
      ],
      "execution_count": null,
      "outputs": [
        {
          "output_type": "execute_result",
          "data": {
            "text/plain": [
              "(817, 1)"
            ]
          },
          "metadata": {
            "tags": []
          },
          "execution_count": 97
        }
      ]
    },
    {
      "cell_type": "code",
      "metadata": {
        "id": "IgFhFUt9PRJ4"
      },
      "source": [
        "train_data"
      ],
      "execution_count": null,
      "outputs": []
    },
    {
      "cell_type": "code",
      "metadata": {
        "id": "x5vNXv7dKt1F"
      },
      "source": [
        "import numpy \n",
        "def create_dataset(data, timestep):\n",
        "  dataX, dataY= [] , []\n",
        "  for i in range(len(data)-timestep-1):\n",
        "    a = data[i: (i+timestep), 0]\n",
        "    dataX.append(a)\n",
        "    dataY.append(data[i+timestep,0])\n",
        "  return numpy.array(dataX), numpy.array(dataY)\n"
      ],
      "execution_count": null,
      "outputs": []
    },
    {
      "cell_type": "code",
      "metadata": {
        "id": "O0-ZAUW-URHh"
      },
      "source": [
        "timestep=100\n",
        "X_train , Y_train = create_dataset(train_data, timestep)\n",
        "X_test , Y_test = create_dataset(test_data, timestep)"
      ],
      "execution_count": null,
      "outputs": []
    },
    {
      "cell_type": "code",
      "metadata": {
        "colab": {
          "base_uri": "https://localhost:8080/"
        },
        "id": "jVeiQD06Uz7A",
        "outputId": "bdf4aba8-83a4-423d-dce4-8be621e2358f"
      },
      "source": [
        "print(X_train.shape), print(Y_train.shape)"
      ],
      "execution_count": null,
      "outputs": [
        {
          "output_type": "stream",
          "text": [
            "(716, 100)\n",
            "(716,)\n"
          ],
          "name": "stdout"
        },
        {
          "output_type": "execute_result",
          "data": {
            "text/plain": [
              "(None, None)"
            ]
          },
          "metadata": {
            "tags": []
          },
          "execution_count": 89
        }
      ]
    },
    {
      "cell_type": "code",
      "metadata": {
        "id": "9XKzNfFJWWnL",
        "colab": {
          "base_uri": "https://localhost:8080/"
        },
        "outputId": "d8ef2e67-9e70-442e-a242-ce5c5ed46458"
      },
      "source": [
        "print(X_test.shape), print(Y_test.shape)"
      ],
      "execution_count": null,
      "outputs": [
        {
          "output_type": "stream",
          "text": [
            "(340, 100)\n",
            "(340,)\n"
          ],
          "name": "stdout"
        },
        {
          "output_type": "execute_result",
          "data": {
            "text/plain": [
              "(None, None)"
            ]
          },
          "metadata": {
            "tags": []
          },
          "execution_count": 90
        }
      ]
    },
    {
      "cell_type": "code",
      "metadata": {
        "id": "6-UsL35fONmL"
      },
      "source": [
        "X_train = X_train.reshape(X_train.shape[0], X_train.shape[1], 1)\n",
        "X_test = X_test.reshape(X_test.shape[0], X_test.shape[1],1)"
      ],
      "execution_count": null,
      "outputs": []
    },
    {
      "cell_type": "code",
      "metadata": {
        "id": "5-hRKycuPJSl"
      },
      "source": [
        "### Create the Stacked LSTM model\n",
        "from tensorflow.keras.models import Sequential\n",
        "from tensorflow.keras.layers import Dense\n",
        "from tensorflow.keras.layers import LSTM"
      ],
      "execution_count": null,
      "outputs": []
    },
    {
      "cell_type": "code",
      "metadata": {
        "id": "OKdfQ2ERPN_d"
      },
      "source": [
        "model = Sequential()\n",
        "model.add(LSTM(50,return_sequences=True , input_shape = (100,1)))\n",
        "model.add(LSTM(50, return_sequences=True))\n",
        "model.add(LSTM(50))\n",
        "model.add(Dense(1))\n",
        "model.compile(loss='mean_squared_error', optimizer='adam')\n"
      ],
      "execution_count": null,
      "outputs": []
    },
    {
      "cell_type": "code",
      "metadata": {
        "colab": {
          "base_uri": "https://localhost:8080/"
        },
        "id": "GfKWSSgtQFzw",
        "outputId": "8001c7d8-b22f-4b0d-8e4f-928b71c81552"
      },
      "source": [
        "model.summary()"
      ],
      "execution_count": null,
      "outputs": [
        {
          "output_type": "stream",
          "text": [
            "Model: \"sequential_1\"\n",
            "_________________________________________________________________\n",
            "Layer (type)                 Output Shape              Param #   \n",
            "=================================================================\n",
            "lstm_3 (LSTM)                (None, 100, 50)           10400     \n",
            "_________________________________________________________________\n",
            "lstm_4 (LSTM)                (None, 100, 50)           20200     \n",
            "_________________________________________________________________\n",
            "lstm_5 (LSTM)                (None, 50)                20200     \n",
            "_________________________________________________________________\n",
            "dense_1 (Dense)              (None, 1)                 51        \n",
            "=================================================================\n",
            "Total params: 50,851\n",
            "Trainable params: 50,851\n",
            "Non-trainable params: 0\n",
            "_________________________________________________________________\n"
          ],
          "name": "stdout"
        }
      ]
    },
    {
      "cell_type": "code",
      "metadata": {
        "colab": {
          "base_uri": "https://localhost:8080/"
        },
        "id": "lTCmOlSgOKmy",
        "outputId": "13a08d98-bbc1-4eee-b55a-6a6f0338f4a3"
      },
      "source": [
        "model.fit(X_train ,Y_train , validation_data=(X_test, Y_test), epochs=10, batch_size=64, verbose=1)"
      ],
      "execution_count": null,
      "outputs": [
        {
          "output_type": "stream",
          "text": [
            "Epoch 1/10\n",
            "12/12 [==============================] - 2s 169ms/step - loss: 4.6544e-04 - val_loss: 0.0197\n",
            "Epoch 2/10\n",
            "12/12 [==============================] - 2s 168ms/step - loss: 4.4393e-04 - val_loss: 0.0192\n",
            "Epoch 3/10\n",
            "12/12 [==============================] - 2s 167ms/step - loss: 4.1797e-04 - val_loss: 0.0187\n",
            "Epoch 4/10\n",
            "12/12 [==============================] - 2s 167ms/step - loss: 4.0157e-04 - val_loss: 0.0181\n",
            "Epoch 5/10\n",
            "12/12 [==============================] - 2s 167ms/step - loss: 3.8887e-04 - val_loss: 0.0176\n",
            "Epoch 6/10\n",
            "12/12 [==============================] - 2s 165ms/step - loss: 3.8883e-04 - val_loss: 0.0169\n",
            "Epoch 7/10\n",
            "12/12 [==============================] - 2s 168ms/step - loss: 3.6150e-04 - val_loss: 0.0162\n",
            "Epoch 8/10\n",
            "12/12 [==============================] - 2s 168ms/step - loss: 3.3533e-04 - val_loss: 0.0156\n",
            "Epoch 9/10\n",
            "12/12 [==============================] - 2s 166ms/step - loss: 3.2781e-04 - val_loss: 0.0150\n",
            "Epoch 10/10\n",
            "12/12 [==============================] - 2s 167ms/step - loss: 3.0302e-04 - val_loss: 0.0150\n"
          ],
          "name": "stdout"
        },
        {
          "output_type": "execute_result",
          "data": {
            "text/plain": [
              "<tensorflow.python.keras.callbacks.History at 0x7f39fcaa3cd0>"
            ]
          },
          "metadata": {
            "tags": []
          },
          "execution_count": 96
        }
      ]
    },
    {
      "cell_type": "code",
      "metadata": {
        "id": "hkncrlma4aqq"
      },
      "source": [
        "train_predict = model.predict(X_train)\n",
        "test_predict = model.predict(X_test)"
      ],
      "execution_count": null,
      "outputs": []
    },
    {
      "cell_type": "code",
      "metadata": {
        "id": "-7OWOnWA6IzD"
      },
      "source": [
        "len(train_predict)"
      ],
      "execution_count": null,
      "outputs": []
    },
    {
      "cell_type": "code",
      "metadata": {
        "id": "04quuSNT6StT"
      },
      "source": [
        "train_predict = scaler.inverse_transform(train_predict)\n",
        "test_predict = scaler.inverse_transform(test_predict)"
      ],
      "execution_count": null,
      "outputs": []
    },
    {
      "cell_type": "code",
      "metadata": {
        "id": "VaCbUtja61GE"
      },
      "source": [
        "import math\n",
        "from sklearn.metrics import mean_squared_error\n",
        "math.sqrt(mean_squared_error(Y_train,train_predict))"
      ],
      "execution_count": null,
      "outputs": []
    },
    {
      "cell_type": "code",
      "metadata": {
        "id": "60kGHnD47Eux"
      },
      "source": [
        "math.sqrt(mean_squared_error(Y_test,test_predict))"
      ],
      "execution_count": null,
      "outputs": []
    },
    {
      "cell_type": "code",
      "metadata": {
        "id": "uRJ5GIsc7LrY"
      },
      "source": [
        "## Plotting \n",
        "\n",
        "plt.plot(scaler.inverse_transform(X))\n",
        "plt.plot(train_predict)\n",
        "plt.plot(test_predict)"
      ],
      "execution_count": null,
      "outputs": []
    },
    {
      "cell_type": "code",
      "metadata": {
        "id": "o8cCw3dt7gnH"
      },
      "source": [
        "look_back = 100\n",
        "\n",
        "## shifting train predictions for plotting\n",
        "trainplot = numpy.empty_like(X)\n",
        "trainplot[:,:] = np.nan\n",
        "trainplot[look_back:len(train_predict)+look_back,:]=train_predict\n",
        "\n",
        "##shifting test predictions of plotting\n",
        "testplot = numpy.empty_like(X)\n",
        "testplot[:,:] = np.nan\n",
        "testplot[len(train_predict)+(look_back*2)+1:len(X)-1,:]=test_predict\n",
        "\n",
        "plt.figure(figsize=(10,10))\n",
        "plt.plot(scaler.inverse_transform(X))\n",
        "plt.plot(trainplot)\n",
        "plt.plot(testplot)\n",
        "plt.show()\n",
        "\n"
      ],
      "execution_count": null,
      "outputs": []
    },
    {
      "cell_type": "code",
      "metadata": {
        "id": "P9R0RCGxB-z1"
      },
      "source": [
        "len(test_data)"
      ],
      "execution_count": null,
      "outputs": []
    },
    {
      "cell_type": "code",
      "metadata": {
        "colab": {
          "base_uri": "https://localhost:8080/"
        },
        "id": "yLvFx8t8TY8r",
        "outputId": "cf46d039-166a-48ae-b034-22290adef635"
      },
      "source": [
        "len(train_data)"
      ],
      "execution_count": null,
      "outputs": [
        {
          "output_type": "execute_result",
          "data": {
            "text/plain": [
              "817"
            ]
          },
          "metadata": {
            "tags": []
          },
          "execution_count": 118
        }
      ]
    },
    {
      "cell_type": "code",
      "metadata": {
        "id": "Gbf5FA5dEX4i"
      },
      "source": [
        "for i in range(len(train_data)):\n",
        "  print(i)\n",
        "  "
      ],
      "execution_count": null,
      "outputs": []
    },
    {
      "cell_type": "code",
      "metadata": {
        "id": "1rzbpk7xTVS_"
      },
      "source": [
        "import numpy as np\n",
        "l=[3,4,2,3,4,2,2,2]\n",
        "arr = np.array(l)"
      ],
      "execution_count": null,
      "outputs": []
    },
    {
      "cell_type": "code",
      "metadata": {
        "colab": {
          "base_uri": "https://localhost:8080/"
        },
        "id": "D0Xb-7m5-gtg",
        "outputId": "999da500-02dc-4f70-df0c-851a01b4ad01"
      },
      "source": [
        "arr"
      ],
      "execution_count": null,
      "outputs": [
        {
          "output_type": "execute_result",
          "data": {
            "text/plain": [
              "array([3, 4, 2, 3, 4, 2, 2, 2])"
            ]
          },
          "metadata": {
            "tags": []
          },
          "execution_count": 16
        }
      ]
    },
    {
      "cell_type": "code",
      "metadata": {
        "colab": {
          "base_uri": "https://localhost:8080/"
        },
        "id": "K1avvsM6-y0C",
        "outputId": "0c6825e5-70ac-4c75-b573-d2659c6b2946"
      },
      "source": [
        "arr[0:2]"
      ],
      "execution_count": null,
      "outputs": [
        {
          "output_type": "execute_result",
          "data": {
            "text/plain": [
              "array([3, 4])"
            ]
          },
          "metadata": {
            "tags": []
          },
          "execution_count": 17
        }
      ]
    },
    {
      "cell_type": "code",
      "metadata": {
        "id": "2jYLzEN7-hKx"
      },
      "source": [
        ""
      ],
      "execution_count": null,
      "outputs": []
    },
    {
      "cell_type": "code",
      "metadata": {
        "colab": {
          "base_uri": "https://localhost:8080/"
        },
        "id": "l-SkUMK5MlBS",
        "outputId": "fee382b5-e9cc-4635-c83c-521afd9313bb"
      },
      "source": [
        "len(l)"
      ],
      "execution_count": null,
      "outputs": [
        {
          "output_type": "execute_result",
          "data": {
            "text/plain": [
              "8"
            ]
          },
          "metadata": {
            "tags": []
          },
          "execution_count": 3
        }
      ]
    },
    {
      "cell_type": "code",
      "metadata": {
        "colab": {
          "base_uri": "https://localhost:8080/"
        },
        "id": "dWLG7em_MnY_",
        "outputId": "51c70122-1d32-4b54-962a-aa8a46acf741"
      },
      "source": [
        "l[1:9]"
      ],
      "execution_count": null,
      "outputs": [
        {
          "output_type": "execute_result",
          "data": {
            "text/plain": [
              "[4, 2, 3, 4, 2, 2, 2]"
            ]
          },
          "metadata": {
            "tags": []
          },
          "execution_count": 8
        }
      ]
    },
    {
      "cell_type": "code",
      "metadata": {
        "id": "sTYPcw2hMsiX"
      },
      "source": [
        ""
      ],
      "execution_count": null,
      "outputs": []
    },
    {
      "cell_type": "code",
      "metadata": {
        "id": "acgKAdbs9H1C"
      },
      "source": [
        "\n"
      ],
      "execution_count": null,
      "outputs": []
    },
    {
      "cell_type": "code",
      "metadata": {
        "id": "R9U4mv089QDw"
      },
      "source": [
        "X.shape"
      ],
      "execution_count": null,
      "outputs": []
    },
    {
      "cell_type": "code",
      "metadata": {
        "id": "w98PPkUP9Rvv"
      },
      "source": [
        ""
      ],
      "execution_count": null,
      "outputs": []
    },
    {
      "cell_type": "code",
      "metadata": {
        "id": "3qAP_hTI9OMM"
      },
      "source": [
        ""
      ],
      "execution_count": null,
      "outputs": []
    },
    {
      "cell_type": "code",
      "metadata": {
        "id": "dbXY0lVB9Jhs"
      },
      "source": [
        ""
      ],
      "execution_count": null,
      "outputs": []
    },
    {
      "cell_type": "code",
      "metadata": {
        "id": "lRxRpGeV7VFL"
      },
      "source": [
        ""
      ],
      "execution_count": null,
      "outputs": []
    },
    {
      "cell_type": "code",
      "metadata": {
        "id": "djURC5do7Q0a"
      },
      "source": [
        ""
      ],
      "execution_count": null,
      "outputs": []
    },
    {
      "cell_type": "code",
      "metadata": {
        "id": "SHi-QjWV6KK8"
      },
      "source": [
        ""
      ],
      "execution_count": null,
      "outputs": []
    },
    {
      "cell_type": "code",
      "metadata": {
        "id": "dgVflkXq4avD"
      },
      "source": [
        ""
      ],
      "execution_count": null,
      "outputs": []
    }
  ]
}